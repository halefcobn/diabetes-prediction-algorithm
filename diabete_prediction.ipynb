{
 "cells": [
  {
   "cell_type": "code",
   "execution_count": 133,
   "id": "211b72a6-884b-4197-8653-c0237cef2f41",
   "metadata": {},
   "outputs": [],
   "source": [
    "import numpy as np\n",
    "import pandas as pd"
   ]
  },
  {
   "cell_type": "code",
   "execution_count": 134,
   "id": "9ff615f0-d54a-4e8e-8456-c4587b090c0f",
   "metadata": {},
   "outputs": [],
   "source": [
    "path=\"diabets.csv\""
   ]
  },
  {
   "cell_type": "code",
   "execution_count": 135,
   "id": "2dfec153-da55-4eea-8397-efec2582bbaf",
   "metadata": {},
   "outputs": [],
   "source": [
    "df= pd.read_csv(path)"
   ]
  },
  {
   "cell_type": "code",
   "execution_count": 136,
   "id": "72f53cc4-37b3-4a7d-9bf1-754b30350baf",
   "metadata": {},
   "outputs": [
    {
     "data": {
      "text/html": [
       "<div>\n",
       "<style scoped>\n",
       "    .dataframe tbody tr th:only-of-type {\n",
       "        vertical-align: middle;\n",
       "    }\n",
       "\n",
       "    .dataframe tbody tr th {\n",
       "        vertical-align: top;\n",
       "    }\n",
       "\n",
       "    .dataframe thead th {\n",
       "        text-align: right;\n",
       "    }\n",
       "</style>\n",
       "<table border=\"1\" class=\"dataframe\">\n",
       "  <thead>\n",
       "    <tr style=\"text-align: right;\">\n",
       "      <th></th>\n",
       "      <th>has_diabetes</th>\n",
       "      <th>Gender</th>\n",
       "      <th>Age</th>\n",
       "      <th>BMI</th>\n",
       "      <th>Weight</th>\n",
       "      <th>Height</th>\n",
       "    </tr>\n",
       "  </thead>\n",
       "  <tbody>\n",
       "    <tr>\n",
       "      <th>0</th>\n",
       "      <td>0.0</td>\n",
       "      <td>male</td>\n",
       "      <td>34</td>\n",
       "      <td>32.22</td>\n",
       "      <td>87.4</td>\n",
       "      <td>164.7</td>\n",
       "    </tr>\n",
       "    <tr>\n",
       "      <th>1</th>\n",
       "      <td>0.0</td>\n",
       "      <td>male</td>\n",
       "      <td>34</td>\n",
       "      <td>32.22</td>\n",
       "      <td>87.4</td>\n",
       "      <td>164.7</td>\n",
       "    </tr>\n",
       "    <tr>\n",
       "      <th>2</th>\n",
       "      <td>0.0</td>\n",
       "      <td>male</td>\n",
       "      <td>34</td>\n",
       "      <td>32.22</td>\n",
       "      <td>87.4</td>\n",
       "      <td>164.7</td>\n",
       "    </tr>\n",
       "    <tr>\n",
       "      <th>3</th>\n",
       "      <td>0.0</td>\n",
       "      <td>male</td>\n",
       "      <td>4</td>\n",
       "      <td>15.30</td>\n",
       "      <td>17.0</td>\n",
       "      <td>105.4</td>\n",
       "    </tr>\n",
       "    <tr>\n",
       "      <th>4</th>\n",
       "      <td>0.0</td>\n",
       "      <td>female</td>\n",
       "      <td>49</td>\n",
       "      <td>30.57</td>\n",
       "      <td>86.7</td>\n",
       "      <td>168.4</td>\n",
       "    </tr>\n",
       "  </tbody>\n",
       "</table>\n",
       "</div>"
      ],
      "text/plain": [
       "   has_diabetes  Gender  Age    BMI  Weight  Height\n",
       "0           0.0    male   34  32.22    87.4   164.7\n",
       "1           0.0    male   34  32.22    87.4   164.7\n",
       "2           0.0    male   34  32.22    87.4   164.7\n",
       "3           0.0    male    4  15.30    17.0   105.4\n",
       "4           0.0  female   49  30.57    86.7   168.4"
      ]
     },
     "execution_count": 136,
     "metadata": {},
     "output_type": "execute_result"
    }
   ],
   "source": [
    "df.head()"
   ]
  },
  {
   "cell_type": "code",
   "execution_count": 137,
   "id": "ad090815-cfe0-4105-8185-7f47d9a2326f",
   "metadata": {},
   "outputs": [
    {
     "data": {
      "text/plain": [
       "(10000, 6)"
      ]
     },
     "execution_count": 137,
     "metadata": {},
     "output_type": "execute_result"
    }
   ],
   "source": [
    "df.shape"
   ]
  },
  {
   "cell_type": "code",
   "execution_count": 138,
   "id": "0f48e9cf-fcb1-4795-8c54-704ed0b48f2d",
   "metadata": {},
   "outputs": [
    {
     "data": {
      "text/plain": [
       "has_diabetes    142\n",
       "Gender            0\n",
       "Age               0\n",
       "BMI             366\n",
       "Weight           78\n",
       "Height          353\n",
       "dtype: int64"
      ]
     },
     "execution_count": 138,
     "metadata": {},
     "output_type": "execute_result"
    }
   ],
   "source": [
    "df.isna().sum()"
   ]
  },
  {
   "cell_type": "code",
   "execution_count": 139,
   "id": "f5ece8d1-3265-45db-873c-76988281ca84",
   "metadata": {},
   "outputs": [],
   "source": [
    "df = df.dropna(subset=['has_diabetes'], how='all')"
   ]
  },
  {
   "cell_type": "code",
   "execution_count": 140,
   "id": "8849b57b-7f5d-4fba-939e-fe81b3f6d377",
   "metadata": {},
   "outputs": [
    {
     "data": {
      "text/plain": [
       "has_diabetes      0\n",
       "Gender            0\n",
       "Age               0\n",
       "BMI             229\n",
       "Weight           78\n",
       "Height          216\n",
       "dtype: int64"
      ]
     },
     "execution_count": 140,
     "metadata": {},
     "output_type": "execute_result"
    }
   ],
   "source": [
    "df.isna().sum()"
   ]
  },
  {
   "cell_type": "code",
   "execution_count": 141,
   "id": "d148a046-b638-4d6c-95f3-f97cc0ec8d35",
   "metadata": {},
   "outputs": [
    {
     "data": {
      "text/plain": [
       "(9858, 6)"
      ]
     },
     "execution_count": 141,
     "metadata": {},
     "output_type": "execute_result"
    }
   ],
   "source": [
    "df.shape"
   ]
  },
  {
   "cell_type": "code",
   "execution_count": 142,
   "id": "165ed11e-22de-472a-944e-8e36ec3766a6",
   "metadata": {},
   "outputs": [
    {
     "data": {
      "text/plain": [
       "0.0    9098\n",
       "1.0     760\n",
       "Name: has_diabetes, dtype: int64"
      ]
     },
     "execution_count": 142,
     "metadata": {},
     "output_type": "execute_result"
    }
   ],
   "source": [
    "updated_df[\"has_diabetes\"].value_counts()"
   ]
  },
  {
   "cell_type": "code",
   "execution_count": 143,
   "id": "d6e95791-0282-401a-a002-5d37bd9e4a8b",
   "metadata": {},
   "outputs": [
    {
     "data": {
      "text/html": [
       "<div>\n",
       "<style scoped>\n",
       "    .dataframe tbody tr th:only-of-type {\n",
       "        vertical-align: middle;\n",
       "    }\n",
       "\n",
       "    .dataframe tbody tr th {\n",
       "        vertical-align: top;\n",
       "    }\n",
       "\n",
       "    .dataframe thead th {\n",
       "        text-align: right;\n",
       "    }\n",
       "</style>\n",
       "<table border=\"1\" class=\"dataframe\">\n",
       "  <thead>\n",
       "    <tr style=\"text-align: right;\">\n",
       "      <th></th>\n",
       "      <th>has_diabetes</th>\n",
       "      <th>Age</th>\n",
       "      <th>BMI</th>\n",
       "      <th>Weight</th>\n",
       "      <th>Height</th>\n",
       "    </tr>\n",
       "  </thead>\n",
       "  <tbody>\n",
       "    <tr>\n",
       "      <th>count</th>\n",
       "      <td>9858.000000</td>\n",
       "      <td>9858.000000</td>\n",
       "      <td>9629.000000</td>\n",
       "      <td>9780.000000</td>\n",
       "      <td>9642.000000</td>\n",
       "    </tr>\n",
       "    <tr>\n",
       "      <th>mean</th>\n",
       "      <td>0.077095</td>\n",
       "      <td>37.254108</td>\n",
       "      <td>26.658597</td>\n",
       "      <td>71.869969</td>\n",
       "      <td>161.882960</td>\n",
       "    </tr>\n",
       "    <tr>\n",
       "      <th>std</th>\n",
       "      <td>0.266755</td>\n",
       "      <td>22.124204</td>\n",
       "      <td>7.375275</td>\n",
       "      <td>28.346631</td>\n",
       "      <td>20.190297</td>\n",
       "    </tr>\n",
       "    <tr>\n",
       "      <th>min</th>\n",
       "      <td>0.000000</td>\n",
       "      <td>1.000000</td>\n",
       "      <td>12.880000</td>\n",
       "      <td>8.000000</td>\n",
       "      <td>83.600000</td>\n",
       "    </tr>\n",
       "    <tr>\n",
       "      <th>25%</th>\n",
       "      <td>0.000000</td>\n",
       "      <td>18.000000</td>\n",
       "      <td>21.580000</td>\n",
       "      <td>57.100000</td>\n",
       "      <td>156.800000</td>\n",
       "    </tr>\n",
       "    <tr>\n",
       "      <th>50%</th>\n",
       "      <td>0.000000</td>\n",
       "      <td>37.000000</td>\n",
       "      <td>25.980000</td>\n",
       "      <td>73.100000</td>\n",
       "      <td>166.000000</td>\n",
       "    </tr>\n",
       "    <tr>\n",
       "      <th>75%</th>\n",
       "      <td>0.000000</td>\n",
       "      <td>54.000000</td>\n",
       "      <td>30.890000</td>\n",
       "      <td>89.100000</td>\n",
       "      <td>174.500000</td>\n",
       "    </tr>\n",
       "    <tr>\n",
       "      <th>max</th>\n",
       "      <td>1.000000</td>\n",
       "      <td>80.000000</td>\n",
       "      <td>81.250000</td>\n",
       "      <td>230.700000</td>\n",
       "      <td>200.400000</td>\n",
       "    </tr>\n",
       "  </tbody>\n",
       "</table>\n",
       "</div>"
      ],
      "text/plain": [
       "       has_diabetes          Age          BMI       Weight       Height\n",
       "count   9858.000000  9858.000000  9629.000000  9780.000000  9642.000000\n",
       "mean       0.077095    37.254108    26.658597    71.869969   161.882960\n",
       "std        0.266755    22.124204     7.375275    28.346631    20.190297\n",
       "min        0.000000     1.000000    12.880000     8.000000    83.600000\n",
       "25%        0.000000    18.000000    21.580000    57.100000   156.800000\n",
       "50%        0.000000    37.000000    25.980000    73.100000   166.000000\n",
       "75%        0.000000    54.000000    30.890000    89.100000   174.500000\n",
       "max        1.000000    80.000000    81.250000   230.700000   200.400000"
      ]
     },
     "execution_count": 143,
     "metadata": {},
     "output_type": "execute_result"
    }
   ],
   "source": [
    "df.describe()"
   ]
  },
  {
   "cell_type": "code",
   "execution_count": 144,
   "id": "6d437d1e-6029-4cbb-8de5-ea76eda68723",
   "metadata": {},
   "outputs": [],
   "source": [
    "df['BMI']=df['BMI'].fillna(df['BMI'].mean())\n",
    "df['Weight']=df['Weight'].fillna(df['Weight'].mean())\n",
    "df['Height']=df['Height'].fillna(df['Height'].mean())\n"
   ]
  },
  {
   "cell_type": "code",
   "execution_count": 145,
   "id": "d488bc5a-8ea3-4d0a-98fa-a60b05129f27",
   "metadata": {},
   "outputs": [
    {
     "data": {
      "text/plain": [
       "has_diabetes    0\n",
       "Gender          0\n",
       "Age             0\n",
       "BMI             0\n",
       "Weight          0\n",
       "Height          0\n",
       "dtype: int64"
      ]
     },
     "execution_count": 145,
     "metadata": {},
     "output_type": "execute_result"
    }
   ],
   "source": [
    "df.isna().sum()"
   ]
  },
  {
   "cell_type": "code",
   "execution_count": 146,
   "id": "2d50166a-7141-4da9-aed0-3d84cf3fa996",
   "metadata": {},
   "outputs": [
    {
     "data": {
      "text/html": [
       "<div>\n",
       "<style scoped>\n",
       "    .dataframe tbody tr th:only-of-type {\n",
       "        vertical-align: middle;\n",
       "    }\n",
       "\n",
       "    .dataframe tbody tr th {\n",
       "        vertical-align: top;\n",
       "    }\n",
       "\n",
       "    .dataframe thead th {\n",
       "        text-align: right;\n",
       "    }\n",
       "</style>\n",
       "<table border=\"1\" class=\"dataframe\">\n",
       "  <thead>\n",
       "    <tr style=\"text-align: right;\">\n",
       "      <th></th>\n",
       "      <th>has_diabetes</th>\n",
       "      <th>Gender</th>\n",
       "      <th>Age</th>\n",
       "      <th>BMI</th>\n",
       "      <th>Weight</th>\n",
       "      <th>Height</th>\n",
       "    </tr>\n",
       "  </thead>\n",
       "  <tbody>\n",
       "    <tr>\n",
       "      <th>0</th>\n",
       "      <td>0.0</td>\n",
       "      <td>male</td>\n",
       "      <td>34</td>\n",
       "      <td>32.22</td>\n",
       "      <td>87.4</td>\n",
       "      <td>164.7</td>\n",
       "    </tr>\n",
       "    <tr>\n",
       "      <th>1</th>\n",
       "      <td>0.0</td>\n",
       "      <td>male</td>\n",
       "      <td>34</td>\n",
       "      <td>32.22</td>\n",
       "      <td>87.4</td>\n",
       "      <td>164.7</td>\n",
       "    </tr>\n",
       "    <tr>\n",
       "      <th>2</th>\n",
       "      <td>0.0</td>\n",
       "      <td>male</td>\n",
       "      <td>34</td>\n",
       "      <td>32.22</td>\n",
       "      <td>87.4</td>\n",
       "      <td>164.7</td>\n",
       "    </tr>\n",
       "    <tr>\n",
       "      <th>3</th>\n",
       "      <td>0.0</td>\n",
       "      <td>male</td>\n",
       "      <td>4</td>\n",
       "      <td>15.30</td>\n",
       "      <td>17.0</td>\n",
       "      <td>105.4</td>\n",
       "    </tr>\n",
       "    <tr>\n",
       "      <th>4</th>\n",
       "      <td>0.0</td>\n",
       "      <td>female</td>\n",
       "      <td>49</td>\n",
       "      <td>30.57</td>\n",
       "      <td>86.7</td>\n",
       "      <td>168.4</td>\n",
       "    </tr>\n",
       "  </tbody>\n",
       "</table>\n",
       "</div>"
      ],
      "text/plain": [
       "   has_diabetes  Gender  Age    BMI  Weight  Height\n",
       "0           0.0    male   34  32.22    87.4   164.7\n",
       "1           0.0    male   34  32.22    87.4   164.7\n",
       "2           0.0    male   34  32.22    87.4   164.7\n",
       "3           0.0    male    4  15.30    17.0   105.4\n",
       "4           0.0  female   49  30.57    86.7   168.4"
      ]
     },
     "execution_count": 146,
     "metadata": {},
     "output_type": "execute_result"
    }
   ],
   "source": [
    "df.head()"
   ]
  },
  {
   "cell_type": "code",
   "execution_count": 147,
   "id": "13f10abc-aa2d-4f9b-8cd9-e53bade89b97",
   "metadata": {},
   "outputs": [],
   "source": [
    "df = pd.get_dummies(df, prefix=None)"
   ]
  },
  {
   "cell_type": "code",
   "execution_count": 148,
   "id": "d11877e7-20b2-4958-8805-756dbe7143cd",
   "metadata": {},
   "outputs": [
    {
     "data": {
      "text/html": [
       "<div>\n",
       "<style scoped>\n",
       "    .dataframe tbody tr th:only-of-type {\n",
       "        vertical-align: middle;\n",
       "    }\n",
       "\n",
       "    .dataframe tbody tr th {\n",
       "        vertical-align: top;\n",
       "    }\n",
       "\n",
       "    .dataframe thead th {\n",
       "        text-align: right;\n",
       "    }\n",
       "</style>\n",
       "<table border=\"1\" class=\"dataframe\">\n",
       "  <thead>\n",
       "    <tr style=\"text-align: right;\">\n",
       "      <th></th>\n",
       "      <th>has_diabetes</th>\n",
       "      <th>Age</th>\n",
       "      <th>BMI</th>\n",
       "      <th>Weight</th>\n",
       "      <th>Height</th>\n",
       "      <th>Gender_female</th>\n",
       "      <th>Gender_male</th>\n",
       "    </tr>\n",
       "  </thead>\n",
       "  <tbody>\n",
       "    <tr>\n",
       "      <th>0</th>\n",
       "      <td>0.0</td>\n",
       "      <td>34</td>\n",
       "      <td>32.22</td>\n",
       "      <td>87.4</td>\n",
       "      <td>164.7</td>\n",
       "      <td>0</td>\n",
       "      <td>1</td>\n",
       "    </tr>\n",
       "    <tr>\n",
       "      <th>1</th>\n",
       "      <td>0.0</td>\n",
       "      <td>34</td>\n",
       "      <td>32.22</td>\n",
       "      <td>87.4</td>\n",
       "      <td>164.7</td>\n",
       "      <td>0</td>\n",
       "      <td>1</td>\n",
       "    </tr>\n",
       "    <tr>\n",
       "      <th>2</th>\n",
       "      <td>0.0</td>\n",
       "      <td>34</td>\n",
       "      <td>32.22</td>\n",
       "      <td>87.4</td>\n",
       "      <td>164.7</td>\n",
       "      <td>0</td>\n",
       "      <td>1</td>\n",
       "    </tr>\n",
       "    <tr>\n",
       "      <th>3</th>\n",
       "      <td>0.0</td>\n",
       "      <td>4</td>\n",
       "      <td>15.30</td>\n",
       "      <td>17.0</td>\n",
       "      <td>105.4</td>\n",
       "      <td>0</td>\n",
       "      <td>1</td>\n",
       "    </tr>\n",
       "    <tr>\n",
       "      <th>4</th>\n",
       "      <td>0.0</td>\n",
       "      <td>49</td>\n",
       "      <td>30.57</td>\n",
       "      <td>86.7</td>\n",
       "      <td>168.4</td>\n",
       "      <td>1</td>\n",
       "      <td>0</td>\n",
       "    </tr>\n",
       "  </tbody>\n",
       "</table>\n",
       "</div>"
      ],
      "text/plain": [
       "   has_diabetes  Age    BMI  Weight  Height  Gender_female  Gender_male\n",
       "0           0.0   34  32.22    87.4   164.7              0            1\n",
       "1           0.0   34  32.22    87.4   164.7              0            1\n",
       "2           0.0   34  32.22    87.4   164.7              0            1\n",
       "3           0.0    4  15.30    17.0   105.4              0            1\n",
       "4           0.0   49  30.57    86.7   168.4              1            0"
      ]
     },
     "execution_count": 148,
     "metadata": {},
     "output_type": "execute_result"
    }
   ],
   "source": [
    "df.head()"
   ]
  },
  {
   "cell_type": "code",
   "execution_count": 149,
   "id": "661fb24e-04a8-4036-bf38-0736a1c4d98d",
   "metadata": {},
   "outputs": [],
   "source": [
    "import matplotlib.pyplot as plt\n",
    "import seaborn as sns "
   ]
  },
  {
   "cell_type": "code",
   "execution_count": 150,
   "id": "f9b22965-0dc5-45bc-be48-d37d2e1f9ede",
   "metadata": {},
   "outputs": [
    {
     "data": {
      "text/plain": [
       "<AxesSubplot:ylabel='Weight'>"
      ]
     },
     "execution_count": 150,
     "metadata": {},
     "output_type": "execute_result"
    },
    {
     "data": {
      "image/png": "[encoded data removed]",
      "text/plain": [
       "<Figure size 144x288 with 1 Axes>"
      ]
     },
     "metadata": {
      "needs_background": "light"
     },
     "output_type": "display_data"
    }
   ],
   "source": [
    "plt.figure(figsize = (2,4))\n",
    "sns.boxplot(y = df.Weight)"
   ]
  },
  {
   "cell_type": "code",
   "execution_count": 151,
   "id": "b02af2c9-53a6-4252-9460-9394dab629fc",
   "metadata": {},
   "outputs": [
    {
     "name": "stdout",
     "output_type": "stream",
     "text": [
      "<class 'pandas.core.frame.DataFrame'>\n",
      "Int64Index: 9858 entries, 0 to 9999\n",
      "Data columns (total 7 columns):\n",
      " #   Column         Non-Null Count  Dtype  \n",
      "---  ------         --------------  -----  \n",
      " 0   has_diabetes   9858 non-null   float64\n",
      " 1   Age            9858 non-null   int64  \n",
      " 2   BMI            9858 non-null   float64\n",
      " 3   Weight         9858 non-null   float64\n",
      " 4   Height         9858 non-null   float64\n",
      " 5   Gender_female  9858 non-null   uint8  \n",
      " 6   Gender_male    9858 non-null   uint8  \n",
      "dtypes: float64(4), int64(1), uint8(2)\n",
      "memory usage: 481.3 KB\n"
     ]
    }
   ],
   "source": [
    "df.info()"
   ]
  },
  {
   "cell_type": "code",
   "execution_count": 152,
   "id": "ad41784c-c73e-45df-bb71-d359a1639ab7",
   "metadata": {},
   "outputs": [
    {
     "data": {
      "text/html": [
       "<div>\n",
       "<style scoped>\n",
       "    .dataframe tbody tr th:only-of-type {\n",
       "        vertical-align: middle;\n",
       "    }\n",
       "\n",
       "    .dataframe tbody tr th {\n",
       "        vertical-align: top;\n",
       "    }\n",
       "\n",
       "    .dataframe thead th {\n",
       "        text-align: right;\n",
       "    }\n",
       "</style>\n",
       "<table border=\"1\" class=\"dataframe\">\n",
       "  <thead>\n",
       "    <tr style=\"text-align: right;\">\n",
       "      <th></th>\n",
       "      <th>has_diabetes</th>\n",
       "      <th>Age</th>\n",
       "      <th>BMI</th>\n",
       "      <th>Weight</th>\n",
       "      <th>Height</th>\n",
       "      <th>Gender_female</th>\n",
       "      <th>Gender_male</th>\n",
       "    </tr>\n",
       "  </thead>\n",
       "  <tbody>\n",
       "    <tr>\n",
       "      <th>0</th>\n",
       "      <td>0.0</td>\n",
       "      <td>34</td>\n",
       "      <td>32.22</td>\n",
       "      <td>87.4</td>\n",
       "      <td>164.7</td>\n",
       "      <td>0</td>\n",
       "      <td>1</td>\n",
       "    </tr>\n",
       "    <tr>\n",
       "      <th>1</th>\n",
       "      <td>0.0</td>\n",
       "      <td>34</td>\n",
       "      <td>32.22</td>\n",
       "      <td>87.4</td>\n",
       "      <td>164.7</td>\n",
       "      <td>0</td>\n",
       "      <td>1</td>\n",
       "    </tr>\n",
       "    <tr>\n",
       "      <th>2</th>\n",
       "      <td>0.0</td>\n",
       "      <td>34</td>\n",
       "      <td>32.22</td>\n",
       "      <td>87.4</td>\n",
       "      <td>164.7</td>\n",
       "      <td>0</td>\n",
       "      <td>1</td>\n",
       "    </tr>\n",
       "    <tr>\n",
       "      <th>3</th>\n",
       "      <td>0.0</td>\n",
       "      <td>4</td>\n",
       "      <td>15.30</td>\n",
       "      <td>17.0</td>\n",
       "      <td>105.4</td>\n",
       "      <td>0</td>\n",
       "      <td>1</td>\n",
       "    </tr>\n",
       "    <tr>\n",
       "      <th>4</th>\n",
       "      <td>0.0</td>\n",
       "      <td>49</td>\n",
       "      <td>30.57</td>\n",
       "      <td>86.7</td>\n",
       "      <td>168.4</td>\n",
       "      <td>1</td>\n",
       "      <td>0</td>\n",
       "    </tr>\n",
       "  </tbody>\n",
       "</table>\n",
       "</div>"
      ],
      "text/plain": [
       "   has_diabetes  Age    BMI  Weight  Height  Gender_female  Gender_male\n",
       "0           0.0   34  32.22    87.4   164.7              0            1\n",
       "1           0.0   34  32.22    87.4   164.7              0            1\n",
       "2           0.0   34  32.22    87.4   164.7              0            1\n",
       "3           0.0    4  15.30    17.0   105.4              0            1\n",
       "4           0.0   49  30.57    86.7   168.4              1            0"
      ]
     },
     "execution_count": 152,
     "metadata": {},
     "output_type": "execute_result"
    }
   ],
   "source": [
    "df.head()"
   ]
  },
  {
   "cell_type": "code",
   "execution_count": 153,
   "id": "3ed3a98a-a702-4b3a-b29c-f8e114bc6cbb",
   "metadata": {},
   "outputs": [],
   "source": [
    "def out_iqr(df , column):\n",
    "    global lower,upper\n",
    "    q25, q75 = np.quantile(df[column], 0.25), np.quantile(df[column], 0.75)\n",
    "    iqr = q75 - q25\n",
    "    cut_off = iqr * 1.5\n",
    "    lower, upper = q25 - cut_off, q75 + cut_off\n",
    "    print('The IQR is',iqr)\n",
    "    print('The lower bound value is', lower)\n",
    "    print('The upper bound value is', upper)\n",
    "    df1 = df[df[column] > upper]\n",
    "    df2 = df[df[column] < lower]\n",
    "    return print('Total number of outliers are', df1.shape[0]+ df2.shape[0])"
   ]
  },
  {
   "cell_type": "code",
   "execution_count": 154,
   "id": "0d516b5d-e656-4902-ab6d-3de2514c72b7",
   "metadata": {},
   "outputs": [
    {
     "name": "stdout",
     "output_type": "stream",
     "text": [
      "\n",
      "Age\n",
      "The IQR is 36.0\n",
      "The lower bound value is -36.0\n",
      "The upper bound value is 108.0\n",
      "Total number of outliers are 0\n",
      "\n",
      "BMI\n",
      "The IQR is 9.02\n",
      "The lower bound value is 8.17\n",
      "The upper bound value is 44.25\n",
      "Total number of outliers are 201\n",
      "\n",
      "Weight\n",
      "The IQR is 31.799999999999997\n",
      "The lower bound value is 9.500000000000007\n",
      "The upper bound value is 136.7\n",
      "Total number of outliers are 142\n",
      "\n",
      "Height\n",
      "The IQR is 17.17500000000001\n",
      "The lower bound value is 131.43749999999997\n",
      "The upper bound value is 200.13750000000002\n",
      "Total number of outliers are 889\n"
     ]
    }
   ],
   "source": [
    "updated_old = df.copy()\n",
    "updated_df2 = df.copy()\n",
    "for i in df.columns:\n",
    "    if i !=\"has_diabetes\": \n",
    "        if i !=\"Gender_male\":\n",
    "            if i !=\"Gender_female\": \n",
    "                print(\"\\n\"+i)\n",
    "                out_iqr(df,i)\n",
    "                updated_df2 = updated_df2[(updated_df2[i] < upper) & (updated_df2[i] > lower)]"
   ]
  },
  {
   "cell_type": "code",
   "execution_count": 157,
   "id": "107f019b-8afe-433f-8f28-7edbacd122db",
   "metadata": {},
   "outputs": [
    {
     "data": {
      "text/plain": [
       "(9858, 7)"
      ]
     },
     "execution_count": 157,
     "metadata": {},
     "output_type": "execute_result"
    }
   ],
   "source": [
    "updated_old.shape"
   ]
  },
  {
   "cell_type": "code",
   "execution_count": 158,
   "id": "08eabfe3-dd0b-4f9e-bbb6-8f55b09689c9",
   "metadata": {},
   "outputs": [
    {
     "data": {
      "text/plain": [
       "(8725, 7)"
      ]
     },
     "execution_count": 158,
     "metadata": {},
     "output_type": "execute_result"
    }
   ],
   "source": [
    "updated_df2.shape"
   ]
  },
  {
   "cell_type": "code",
   "execution_count": 159,
   "id": "b4583c02-8c06-4302-8d10-e7933d7d6de1",
   "metadata": {},
   "outputs": [
    {
     "data": {
      "text/html": [
       "<div>\n",
       "<style scoped>\n",
       "    .dataframe tbody tr th:only-of-type {\n",
       "        vertical-align: middle;\n",
       "    }\n",
       "\n",
       "    .dataframe tbody tr th {\n",
       "        vertical-align: top;\n",
       "    }\n",
       "\n",
       "    .dataframe thead th {\n",
       "        text-align: right;\n",
       "    }\n",
       "</style>\n",
       "<table border=\"1\" class=\"dataframe\">\n",
       "  <thead>\n",
       "    <tr style=\"text-align: right;\">\n",
       "      <th></th>\n",
       "      <th>has_diabetes</th>\n",
       "      <th>Age</th>\n",
       "      <th>BMI</th>\n",
       "      <th>Weight</th>\n",
       "      <th>Height</th>\n",
       "      <th>Gender_female</th>\n",
       "      <th>Gender_male</th>\n",
       "    </tr>\n",
       "  </thead>\n",
       "  <tbody>\n",
       "    <tr>\n",
       "      <th>0</th>\n",
       "      <td>0.0</td>\n",
       "      <td>34</td>\n",
       "      <td>32.22</td>\n",
       "      <td>87.4</td>\n",
       "      <td>164.7</td>\n",
       "      <td>0</td>\n",
       "      <td>1</td>\n",
       "    </tr>\n",
       "    <tr>\n",
       "      <th>1</th>\n",
       "      <td>0.0</td>\n",
       "      <td>34</td>\n",
       "      <td>32.22</td>\n",
       "      <td>87.4</td>\n",
       "      <td>164.7</td>\n",
       "      <td>0</td>\n",
       "      <td>1</td>\n",
       "    </tr>\n",
       "    <tr>\n",
       "      <th>2</th>\n",
       "      <td>0.0</td>\n",
       "      <td>34</td>\n",
       "      <td>32.22</td>\n",
       "      <td>87.4</td>\n",
       "      <td>164.7</td>\n",
       "      <td>0</td>\n",
       "      <td>1</td>\n",
       "    </tr>\n",
       "    <tr>\n",
       "      <th>4</th>\n",
       "      <td>0.0</td>\n",
       "      <td>49</td>\n",
       "      <td>30.57</td>\n",
       "      <td>86.7</td>\n",
       "      <td>168.4</td>\n",
       "      <td>1</td>\n",
       "      <td>0</td>\n",
       "    </tr>\n",
       "    <tr>\n",
       "      <th>5</th>\n",
       "      <td>0.0</td>\n",
       "      <td>9</td>\n",
       "      <td>16.82</td>\n",
       "      <td>29.8</td>\n",
       "      <td>133.1</td>\n",
       "      <td>0</td>\n",
       "      <td>1</td>\n",
       "    </tr>\n",
       "  </tbody>\n",
       "</table>\n",
       "</div>"
      ],
      "text/plain": [
       "   has_diabetes  Age    BMI  Weight  Height  Gender_female  Gender_male\n",
       "0           0.0   34  32.22    87.4   164.7              0            1\n",
       "1           0.0   34  32.22    87.4   164.7              0            1\n",
       "2           0.0   34  32.22    87.4   164.7              0            1\n",
       "4           0.0   49  30.57    86.7   168.4              1            0\n",
       "5           0.0    9  16.82    29.8   133.1              0            1"
      ]
     },
     "execution_count": 159,
     "metadata": {},
     "output_type": "execute_result"
    }
   ],
   "source": [
    "updated_df2.head()"
   ]
  },
  {
   "cell_type": "code",
   "execution_count": 161,
   "id": "f0cca44a-dd4f-4532-9bc5-936c2457a65d",
   "metadata": {},
   "outputs": [],
   "source": [
    "from sklearn.preprocessing import StandardScaler\n",
    "scaler = StandardScaler()"
   ]
  },
  {
   "cell_type": "code",
   "execution_count": 167,
   "id": "65a6b396-318b-4fb9-b683-aef606c62831",
   "metadata": {},
   "outputs": [],
   "source": [
    "x = updated_df2.drop([\"Height\",\"Weight\",\"has_diabetes\"],axis=1)\n",
    "y = updated_df2[\"has_diabetes\"]"
   ]
  },
  {
   "cell_type": "code",
   "execution_count": 168,
   "id": "1a0219a5-5eee-49b3-8f33-aa30e0625c96",
   "metadata": {},
   "outputs": [
    {
     "data": {
      "text/html": [
       "<div>\n",
       "<style scoped>\n",
       "    .dataframe tbody tr th:only-of-type {\n",
       "        vertical-align: middle;\n",
       "    }\n",
       "\n",
       "    .dataframe tbody tr th {\n",
       "        vertical-align: top;\n",
       "    }\n",
       "\n",
       "    .dataframe thead th {\n",
       "        text-align: right;\n",
       "    }\n",
       "</style>\n",
       "<table border=\"1\" class=\"dataframe\">\n",
       "  <thead>\n",
       "    <tr style=\"text-align: right;\">\n",
       "      <th></th>\n",
       "      <th>Age</th>\n",
       "      <th>BMI</th>\n",
       "      <th>Gender_female</th>\n",
       "      <th>Gender_male</th>\n",
       "    </tr>\n",
       "  </thead>\n",
       "  <tbody>\n",
       "    <tr>\n",
       "      <th>0</th>\n",
       "      <td>34</td>\n",
       "      <td>32.22</td>\n",
       "      <td>0</td>\n",
       "      <td>1</td>\n",
       "    </tr>\n",
       "    <tr>\n",
       "      <th>1</th>\n",
       "      <td>34</td>\n",
       "      <td>32.22</td>\n",
       "      <td>0</td>\n",
       "      <td>1</td>\n",
       "    </tr>\n",
       "    <tr>\n",
       "      <th>2</th>\n",
       "      <td>34</td>\n",
       "      <td>32.22</td>\n",
       "      <td>0</td>\n",
       "      <td>1</td>\n",
       "    </tr>\n",
       "    <tr>\n",
       "      <th>4</th>\n",
       "      <td>49</td>\n",
       "      <td>30.57</td>\n",
       "      <td>1</td>\n",
       "      <td>0</td>\n",
       "    </tr>\n",
       "    <tr>\n",
       "      <th>5</th>\n",
       "      <td>9</td>\n",
       "      <td>16.82</td>\n",
       "      <td>0</td>\n",
       "      <td>1</td>\n",
       "    </tr>\n",
       "  </tbody>\n",
       "</table>\n",
       "</div>"
      ],
      "text/plain": [
       "   Age    BMI  Gender_female  Gender_male\n",
       "0   34  32.22              0            1\n",
       "1   34  32.22              0            1\n",
       "2   34  32.22              0            1\n",
       "4   49  30.57              1            0\n",
       "5    9  16.82              0            1"
      ]
     },
     "execution_count": 168,
     "metadata": {},
     "output_type": "execute_result"
    }
   ],
   "source": [
    "x.head()"
   ]
  },
  {
   "cell_type": "code",
   "execution_count": 169,
   "id": "677f4b76-87c9-4080-bec6-a3f919e6b193",
   "metadata": {},
   "outputs": [
    {
     "data": {
      "text/plain": [
       "0    0.0\n",
       "1    0.0\n",
       "2    0.0\n",
       "4    0.0\n",
       "5    0.0\n",
       "Name: has_diabetes, dtype: float64"
      ]
     },
     "execution_count": 169,
     "metadata": {},
     "output_type": "execute_result"
    }
   ],
   "source": [
    "y.head()"
   ]
  },
  {
   "cell_type": "code",
   "execution_count": 170,
   "id": "0aa790d6-acc3-4341-818c-7b34fb32c7a1",
   "metadata": {},
   "outputs": [],
   "source": [
    "from sklearn.preprocessing import StandardScaler\n",
    "scaler = StandardScaler()"
   ]
  },
  {
   "cell_type": "code",
   "execution_count": 173,
   "id": "e74f0005-1dea-41d9-bee4-9517fdaa24ee",
   "metadata": {},
   "outputs": [],
   "source": [
    "updated_df2[[\"Age\",\"BMI\",\"Gender_female\",\"Gender_male\"]]=scaler.fit_transform(x)"
   ]
  },
  {
   "cell_type": "code",
   "execution_count": 174,
   "id": "7107fd0d-400f-4a20-a138-adb469cdc95a",
   "metadata": {},
   "outputs": [
    {
     "data": {
      "text/html": [
       "<div>\n",
       "<style scoped>\n",
       "    .dataframe tbody tr th:only-of-type {\n",
       "        vertical-align: middle;\n",
       "    }\n",
       "\n",
       "    .dataframe tbody tr th {\n",
       "        vertical-align: top;\n",
       "    }\n",
       "\n",
       "    .dataframe thead th {\n",
       "        text-align: right;\n",
       "    }\n",
       "</style>\n",
       "<table border=\"1\" class=\"dataframe\">\n",
       "  <thead>\n",
       "    <tr style=\"text-align: right;\">\n",
       "      <th></th>\n",
       "      <th>has_diabetes</th>\n",
       "      <th>Age</th>\n",
       "      <th>BMI</th>\n",
       "      <th>Weight</th>\n",
       "      <th>Height</th>\n",
       "      <th>Gender_female</th>\n",
       "      <th>Gender_male</th>\n",
       "    </tr>\n",
       "  </thead>\n",
       "  <tbody>\n",
       "    <tr>\n",
       "      <th>0</th>\n",
       "      <td>0.0</td>\n",
       "      <td>-0.312786</td>\n",
       "      <td>0.874997</td>\n",
       "      <td>87.4</td>\n",
       "      <td>164.7</td>\n",
       "      <td>-1.006554</td>\n",
       "      <td>1.006554</td>\n",
       "    </tr>\n",
       "    <tr>\n",
       "      <th>1</th>\n",
       "      <td>0.0</td>\n",
       "      <td>-0.312786</td>\n",
       "      <td>0.874997</td>\n",
       "      <td>87.4</td>\n",
       "      <td>164.7</td>\n",
       "      <td>-1.006554</td>\n",
       "      <td>1.006554</td>\n",
       "    </tr>\n",
       "    <tr>\n",
       "      <th>2</th>\n",
       "      <td>0.0</td>\n",
       "      <td>-0.312786</td>\n",
       "      <td>0.874997</td>\n",
       "      <td>87.4</td>\n",
       "      <td>164.7</td>\n",
       "      <td>-1.006554</td>\n",
       "      <td>1.006554</td>\n",
       "    </tr>\n",
       "    <tr>\n",
       "      <th>4</th>\n",
       "      <td>0.0</td>\n",
       "      <td>0.413194</td>\n",
       "      <td>0.594069</td>\n",
       "      <td>86.7</td>\n",
       "      <td>168.4</td>\n",
       "      <td>0.993488</td>\n",
       "      <td>-0.993488</td>\n",
       "    </tr>\n",
       "    <tr>\n",
       "      <th>5</th>\n",
       "      <td>0.0</td>\n",
       "      <td>-1.522752</td>\n",
       "      <td>-1.746998</td>\n",
       "      <td>29.8</td>\n",
       "      <td>133.1</td>\n",
       "      <td>-1.006554</td>\n",
       "      <td>1.006554</td>\n",
       "    </tr>\n",
       "  </tbody>\n",
       "</table>\n",
       "</div>"
      ],
      "text/plain": [
       "   has_diabetes       Age       BMI  Weight  Height  Gender_female  \\\n",
       "0           0.0 -0.312786  0.874997    87.4   164.7      -1.006554   \n",
       "1           0.0 -0.312786  0.874997    87.4   164.7      -1.006554   \n",
       "2           0.0 -0.312786  0.874997    87.4   164.7      -1.006554   \n",
       "4           0.0  0.413194  0.594069    86.7   168.4       0.993488   \n",
       "5           0.0 -1.522752 -1.746998    29.8   133.1      -1.006554   \n",
       "\n",
       "   Gender_male  \n",
       "0     1.006554  \n",
       "1     1.006554  \n",
       "2     1.006554  \n",
       "4    -0.993488  \n",
       "5     1.006554  "
      ]
     },
     "execution_count": 174,
     "metadata": {},
     "output_type": "execute_result"
    }
   ],
   "source": [
    "updated_df2.head()"
   ]
  },
  {
   "cell_type": "code",
   "execution_count": 179,
   "id": "da47c6e7-1e6e-4a1a-8f49-3346f02cb690",
   "metadata": {},
   "outputs": [
    {
     "data": {
      "text/html": [
       "<div>\n",
       "<style scoped>\n",
       "    .dataframe tbody tr th:only-of-type {\n",
       "        vertical-align: middle;\n",
       "    }\n",
       "\n",
       "    .dataframe tbody tr th {\n",
       "        vertical-align: top;\n",
       "    }\n",
       "\n",
       "    .dataframe thead th {\n",
       "        text-align: right;\n",
       "    }\n",
       "</style>\n",
       "<table border=\"1\" class=\"dataframe\">\n",
       "  <thead>\n",
       "    <tr style=\"text-align: right;\">\n",
       "      <th></th>\n",
       "      <th>has_diabetes</th>\n",
       "      <th>Age</th>\n",
       "      <th>BMI</th>\n",
       "      <th>Weight</th>\n",
       "      <th>Height</th>\n",
       "      <th>Gender_female</th>\n",
       "      <th>Gender_male</th>\n",
       "    </tr>\n",
       "  </thead>\n",
       "  <tbody>\n",
       "    <tr>\n",
       "      <th>count</th>\n",
       "      <td>8725.000000</td>\n",
       "      <td>8.725000e+03</td>\n",
       "      <td>8.725000e+03</td>\n",
       "      <td>8725.000000</td>\n",
       "      <td>8725.000000</td>\n",
       "      <td>8.725000e+03</td>\n",
       "      <td>8.725000e+03</td>\n",
       "    </tr>\n",
       "    <tr>\n",
       "      <th>mean</th>\n",
       "      <td>0.080573</td>\n",
       "      <td>6.914558e-17</td>\n",
       "      <td>-1.519033e-16</td>\n",
       "      <td>75.322749</td>\n",
       "      <td>166.968614</td>\n",
       "      <td>-1.009826e-16</td>\n",
       "      <td>9.105737e-17</td>\n",
       "    </tr>\n",
       "    <tr>\n",
       "      <th>std</th>\n",
       "      <td>0.272194</td>\n",
       "      <td>1.000057e+00</td>\n",
       "      <td>1.000057e+00</td>\n",
       "      <td>21.762802</td>\n",
       "      <td>11.331716</td>\n",
       "      <td>1.000057e+00</td>\n",
       "      <td>1.000057e+00</td>\n",
       "    </tr>\n",
       "    <tr>\n",
       "      <th>min</th>\n",
       "      <td>0.000000</td>\n",
       "      <td>-1.909941e+00</td>\n",
       "      <td>-2.414415e+00</td>\n",
       "      <td>9.600000</td>\n",
       "      <td>131.500000</td>\n",
       "      <td>-1.006554e+00</td>\n",
       "      <td>-9.934882e-01</td>\n",
       "    </tr>\n",
       "    <tr>\n",
       "      <th>25%</th>\n",
       "      <td>0.000000</td>\n",
       "      <td>-8.451706e-01</td>\n",
       "      <td>-7.203334e-01</td>\n",
       "      <td>61.500000</td>\n",
       "      <td>160.000000</td>\n",
       "      <td>-1.006554e+00</td>\n",
       "      <td>-9.934882e-01</td>\n",
       "    </tr>\n",
       "    <tr>\n",
       "      <th>50%</th>\n",
       "      <td>0.000000</td>\n",
       "      <td>-2.239373e-02</td>\n",
       "      <td>-7.188387e-02</td>\n",
       "      <td>74.800000</td>\n",
       "      <td>167.200000</td>\n",
       "      <td>9.934882e-01</td>\n",
       "      <td>-9.934882e-01</td>\n",
       "    </tr>\n",
       "    <tr>\n",
       "      <th>75%</th>\n",
       "      <td>0.000000</td>\n",
       "      <td>7.519845e-01</td>\n",
       "      <td>6.332290e-01</td>\n",
       "      <td>89.300000</td>\n",
       "      <td>175.100000</td>\n",
       "      <td>9.934882e-01</td>\n",
       "      <td>1.006554e+00</td>\n",
       "    </tr>\n",
       "    <tr>\n",
       "      <th>max</th>\n",
       "      <td>1.000000</td>\n",
       "      <td>1.913552e+00</td>\n",
       "      <td>2.914705e+00</td>\n",
       "      <td>136.300000</td>\n",
       "      <td>199.900000</td>\n",
       "      <td>9.934882e-01</td>\n",
       "      <td>1.006554e+00</td>\n",
       "    </tr>\n",
       "  </tbody>\n",
       "</table>\n",
       "</div>"
      ],
      "text/plain": [
       "       has_diabetes           Age           BMI       Weight       Height  \\\n",
       "count   8725.000000  8.725000e+03  8.725000e+03  8725.000000  8725.000000   \n",
       "mean       0.080573  6.914558e-17 -1.519033e-16    75.322749   166.968614   \n",
       "std        0.272194  1.000057e+00  1.000057e+00    21.762802    11.331716   \n",
       "min        0.000000 -1.909941e+00 -2.414415e+00     9.600000   131.500000   \n",
       "25%        0.000000 -8.451706e-01 -7.203334e-01    61.500000   160.000000   \n",
       "50%        0.000000 -2.239373e-02 -7.188387e-02    74.800000   167.200000   \n",
       "75%        0.000000  7.519845e-01  6.332290e-01    89.300000   175.100000   \n",
       "max        1.000000  1.913552e+00  2.914705e+00   136.300000   199.900000   \n",
       "\n",
       "       Gender_female   Gender_male  \n",
       "count   8.725000e+03  8.725000e+03  \n",
       "mean   -1.009826e-16  9.105737e-17  \n",
       "std     1.000057e+00  1.000057e+00  \n",
       "min    -1.006554e+00 -9.934882e-01  \n",
       "25%    -1.006554e+00 -9.934882e-01  \n",
       "50%     9.934882e-01 -9.934882e-01  \n",
       "75%     9.934882e-01  1.006554e+00  \n",
       "max     9.934882e-01  1.006554e+00  "
      ]
     },
     "execution_count": 179,
     "metadata": {},
     "output_type": "execute_result"
    }
   ],
   "source": [
    "updated_df2.describe()"
   ]
  },
  {
   "cell_type": "code",
   "execution_count": 180,
   "id": "7ae45abe-18e7-44e5-ab41-a14bd354637c",
   "metadata": {},
   "outputs": [],
   "source": [
    "updated_df2 = updated_df2.drop([\"Height\",\"Weight\",],axis=1)"
   ]
  },
  {
   "cell_type": "code",
   "execution_count": 181,
   "id": "6eed409e-e00e-4c73-9243-63eef59ee2da",
   "metadata": {},
   "outputs": [
    {
     "data": {
      "text/html": [
       "<div>\n",
       "<style scoped>\n",
       "    .dataframe tbody tr th:only-of-type {\n",
       "        vertical-align: middle;\n",
       "    }\n",
       "\n",
       "    .dataframe tbody tr th {\n",
       "        vertical-align: top;\n",
       "    }\n",
       "\n",
       "    .dataframe thead th {\n",
       "        text-align: right;\n",
       "    }\n",
       "</style>\n",
       "<table border=\"1\" class=\"dataframe\">\n",
       "  <thead>\n",
       "    <tr style=\"text-align: right;\">\n",
       "      <th></th>\n",
       "      <th>has_diabetes</th>\n",
       "      <th>Age</th>\n",
       "      <th>BMI</th>\n",
       "      <th>Gender_female</th>\n",
       "      <th>Gender_male</th>\n",
       "    </tr>\n",
       "  </thead>\n",
       "  <tbody>\n",
       "    <tr>\n",
       "      <th>0</th>\n",
       "      <td>0.0</td>\n",
       "      <td>-0.312786</td>\n",
       "      <td>0.874997</td>\n",
       "      <td>-1.006554</td>\n",
       "      <td>1.006554</td>\n",
       "    </tr>\n",
       "    <tr>\n",
       "      <th>1</th>\n",
       "      <td>0.0</td>\n",
       "      <td>-0.312786</td>\n",
       "      <td>0.874997</td>\n",
       "      <td>-1.006554</td>\n",
       "      <td>1.006554</td>\n",
       "    </tr>\n",
       "    <tr>\n",
       "      <th>2</th>\n",
       "      <td>0.0</td>\n",
       "      <td>-0.312786</td>\n",
       "      <td>0.874997</td>\n",
       "      <td>-1.006554</td>\n",
       "      <td>1.006554</td>\n",
       "    </tr>\n",
       "    <tr>\n",
       "      <th>4</th>\n",
       "      <td>0.0</td>\n",
       "      <td>0.413194</td>\n",
       "      <td>0.594069</td>\n",
       "      <td>0.993488</td>\n",
       "      <td>-0.993488</td>\n",
       "    </tr>\n",
       "    <tr>\n",
       "      <th>5</th>\n",
       "      <td>0.0</td>\n",
       "      <td>-1.522752</td>\n",
       "      <td>-1.746998</td>\n",
       "      <td>-1.006554</td>\n",
       "      <td>1.006554</td>\n",
       "    </tr>\n",
       "  </tbody>\n",
       "</table>\n",
       "</div>"
      ],
      "text/plain": [
       "   has_diabetes       Age       BMI  Gender_female  Gender_male\n",
       "0           0.0 -0.312786  0.874997      -1.006554     1.006554\n",
       "1           0.0 -0.312786  0.874997      -1.006554     1.006554\n",
       "2           0.0 -0.312786  0.874997      -1.006554     1.006554\n",
       "4           0.0  0.413194  0.594069       0.993488    -0.993488\n",
       "5           0.0 -1.522752 -1.746998      -1.006554     1.006554"
      ]
     },
     "execution_count": 181,
     "metadata": {},
     "output_type": "execute_result"
    }
   ],
   "source": [
    "updated_df2.head()"
   ]
  },
  {
   "cell_type": "code",
   "execution_count": 182,
   "id": "3aa843cd-078e-44fb-8c41-cb0dfa3e0144",
   "metadata": {},
   "outputs": [
    {
     "data": {
      "image/png": "[encoded data removed]",
      "text/plain": [
       "<Figure size 720x720 with 2 Axes>"
      ]
     },
     "metadata": {
      "needs_background": "light"
     },
     "output_type": "display_data"
    }
   ],
   "source": [
    "#get correlations of each features in dataset\n",
    "corrmat = updated_df2.corr()\n",
    "top_corr_features = corrmat.index\n",
    "plt.figure(figsize=(10,10))\n",
    "#plot heat map\n",
    "g=sns.heatmap(updated_df2[top_corr_features].corr(),annot=True,cmap=\"RdYlGn\")"
   ]
  },
  {
   "cell_type": "code",
   "execution_count": 183,
   "id": "dbe79374-37bb-4e3f-8ba1-f72bd37c0e52",
   "metadata": {},
   "outputs": [],
   "source": [
    "from sklearn.linear_model import LogisticRegression\n",
    "lr = LogisticRegression()\n"
   ]
  },
  {
   "cell_type": "code",
   "execution_count": 210,
   "id": "8f9e4f0b-fdd2-4a88-b471-a21e1172db49",
   "metadata": {},
   "outputs": [],
   "source": [
    "import pandas as pd\n",
    "from sklearn.model_selection import train_test_split\n",
    "from matplotlib import pyplot as plt\n",
    "from sklearn.linear_model import LogisticRegression\n",
    "from sklearn.model_selection import train_test_split\n",
    "from sklearn.metrics import accuracy_score\n",
    "from sklearn.metrics import confusion_matrix"
   ]
  },
  {
   "cell_type": "code",
   "execution_count": 195,
   "id": "dfd1999d-a978-49eb-b0b0-c502cedd42fd",
   "metadata": {},
   "outputs": [
    {
     "data": {
      "text/html": [
       "<div>\n",
       "<style scoped>\n",
       "    .dataframe tbody tr th:only-of-type {\n",
       "        vertical-align: middle;\n",
       "    }\n",
       "\n",
       "    .dataframe tbody tr th {\n",
       "        vertical-align: top;\n",
       "    }\n",
       "\n",
       "    .dataframe thead th {\n",
       "        text-align: right;\n",
       "    }\n",
       "</style>\n",
       "<table border=\"1\" class=\"dataframe\">\n",
       "  <thead>\n",
       "    <tr style=\"text-align: right;\">\n",
       "      <th></th>\n",
       "      <th>has_diabetes</th>\n",
       "      <th>Age</th>\n",
       "      <th>BMI</th>\n",
       "      <th>Gender_female</th>\n",
       "      <th>Gender_male</th>\n",
       "    </tr>\n",
       "  </thead>\n",
       "  <tbody>\n",
       "    <tr>\n",
       "      <th>0</th>\n",
       "      <td>0.0</td>\n",
       "      <td>-0.312786</td>\n",
       "      <td>0.874997</td>\n",
       "      <td>-1.006554</td>\n",
       "      <td>1.006554</td>\n",
       "    </tr>\n",
       "    <tr>\n",
       "      <th>1</th>\n",
       "      <td>0.0</td>\n",
       "      <td>-0.312786</td>\n",
       "      <td>0.874997</td>\n",
       "      <td>-1.006554</td>\n",
       "      <td>1.006554</td>\n",
       "    </tr>\n",
       "    <tr>\n",
       "      <th>2</th>\n",
       "      <td>0.0</td>\n",
       "      <td>-0.312786</td>\n",
       "      <td>0.874997</td>\n",
       "      <td>-1.006554</td>\n",
       "      <td>1.006554</td>\n",
       "    </tr>\n",
       "    <tr>\n",
       "      <th>4</th>\n",
       "      <td>0.0</td>\n",
       "      <td>0.413194</td>\n",
       "      <td>0.594069</td>\n",
       "      <td>0.993488</td>\n",
       "      <td>-0.993488</td>\n",
       "    </tr>\n",
       "    <tr>\n",
       "      <th>5</th>\n",
       "      <td>0.0</td>\n",
       "      <td>-1.522752</td>\n",
       "      <td>-1.746998</td>\n",
       "      <td>-1.006554</td>\n",
       "      <td>1.006554</td>\n",
       "    </tr>\n",
       "  </tbody>\n",
       "</table>\n",
       "</div>"
      ],
      "text/plain": [
       "   has_diabetes       Age       BMI  Gender_female  Gender_male\n",
       "0           0.0 -0.312786  0.874997      -1.006554     1.006554\n",
       "1           0.0 -0.312786  0.874997      -1.006554     1.006554\n",
       "2           0.0 -0.312786  0.874997      -1.006554     1.006554\n",
       "4           0.0  0.413194  0.594069       0.993488    -0.993488\n",
       "5           0.0 -1.522752 -1.746998      -1.006554     1.006554"
      ]
     },
     "execution_count": 195,
     "metadata": {},
     "output_type": "execute_result"
    }
   ],
   "source": [
    "updated_df2.head()"
   ]
  },
  {
   "cell_type": "code",
   "execution_count": 188,
   "id": "9fb0dba4-7e2f-4500-9a2f-61e27e8066bd",
   "metadata": {},
   "outputs": [],
   "source": [
    "X = updated_df2.drop([\"has_diabetes\"],axis=1)\n",
    "y= updated_df2[\"has_diabetes\"]"
   ]
  },
  {
   "cell_type": "code",
   "execution_count": 189,
   "id": "afb15c74-2d8e-47d7-bc4c-81a3b54675ba",
   "metadata": {},
   "outputs": [
    {
     "data": {
      "text/html": [
       "<div>\n",
       "<style scoped>\n",
       "    .dataframe tbody tr th:only-of-type {\n",
       "        vertical-align: middle;\n",
       "    }\n",
       "\n",
       "    .dataframe tbody tr th {\n",
       "        vertical-align: top;\n",
       "    }\n",
       "\n",
       "    .dataframe thead th {\n",
       "        text-align: right;\n",
       "    }\n",
       "</style>\n",
       "<table border=\"1\" class=\"dataframe\">\n",
       "  <thead>\n",
       "    <tr style=\"text-align: right;\">\n",
       "      <th></th>\n",
       "      <th>Age</th>\n",
       "      <th>BMI</th>\n",
       "      <th>Gender_female</th>\n",
       "      <th>Gender_male</th>\n",
       "    </tr>\n",
       "  </thead>\n",
       "  <tbody>\n",
       "    <tr>\n",
       "      <th>0</th>\n",
       "      <td>-0.312786</td>\n",
       "      <td>0.874997</td>\n",
       "      <td>-1.006554</td>\n",
       "      <td>1.006554</td>\n",
       "    </tr>\n",
       "    <tr>\n",
       "      <th>1</th>\n",
       "      <td>-0.312786</td>\n",
       "      <td>0.874997</td>\n",
       "      <td>-1.006554</td>\n",
       "      <td>1.006554</td>\n",
       "    </tr>\n",
       "    <tr>\n",
       "      <th>2</th>\n",
       "      <td>-0.312786</td>\n",
       "      <td>0.874997</td>\n",
       "      <td>-1.006554</td>\n",
       "      <td>1.006554</td>\n",
       "    </tr>\n",
       "    <tr>\n",
       "      <th>4</th>\n",
       "      <td>0.413194</td>\n",
       "      <td>0.594069</td>\n",
       "      <td>0.993488</td>\n",
       "      <td>-0.993488</td>\n",
       "    </tr>\n",
       "    <tr>\n",
       "      <th>5</th>\n",
       "      <td>-1.522752</td>\n",
       "      <td>-1.746998</td>\n",
       "      <td>-1.006554</td>\n",
       "      <td>1.006554</td>\n",
       "    </tr>\n",
       "  </tbody>\n",
       "</table>\n",
       "</div>"
      ],
      "text/plain": [
       "        Age       BMI  Gender_female  Gender_male\n",
       "0 -0.312786  0.874997      -1.006554     1.006554\n",
       "1 -0.312786  0.874997      -1.006554     1.006554\n",
       "2 -0.312786  0.874997      -1.006554     1.006554\n",
       "4  0.413194  0.594069       0.993488    -0.993488\n",
       "5 -1.522752 -1.746998      -1.006554     1.006554"
      ]
     },
     "execution_count": 189,
     "metadata": {},
     "output_type": "execute_result"
    }
   ],
   "source": [
    "X.head()"
   ]
  },
  {
   "cell_type": "code",
   "execution_count": null,
   "id": "9c835d14-18c1-4e52-a79b-07a232590d9c",
   "metadata": {},
   "outputs": [
    {
     "data": {
      "text/plain": [
       "0    0.0\n",
       "1    0.0\n",
       "2    0.0\n",
       "4    0.0\n",
       "5    0.0\n",
       "Name: has_diabetes, dtype: float64"
      ]
     },
     "execution_count": 190,
     "metadata": {},
     "output_type": "execute_result"
    }
   ],
   "source": [
    "y.head()"
   ]
  },
  {
   "cell_type": "code",
   "execution_count": 196,
   "id": "0d9d4bb4-2ee9-4062-aa3d-fd60463cdf86",
   "metadata": {},
   "outputs": [
    {
     "data": {
      "text/plain": [
       "(9858, 7)"
      ]
     },
     "execution_count": 196,
     "metadata": {},
     "output_type": "execute_result"
    }
   ],
   "source": [
    "df.shape"
   ]
  },
  {
   "cell_type": "code",
   "execution_count": 200,
   "id": "bbb463d2-56bc-4ac4-b35b-b699a16cdd22",
   "metadata": {},
   "outputs": [],
   "source": [
    "train_data = updated_df2[:7000]\n",
    "test_data = updated_df2[7000:]"
   ]
  },
  {
   "cell_type": "code",
   "execution_count": 201,
   "id": "bcbc237f-5662-4840-bf94-3d9874d6a18b",
   "metadata": {},
   "outputs": [],
   "source": [
    "# Prepare training and test data\n",
    "train_X = train_data.drop('has_diabetes', axis=1)\n",
    "train_y = train_data['has_diabetes']\n",
    "test_X = test_data.drop('has_diabetes', axis=1)\n",
    "test_y = test_data['has_diabetes']"
   ]
  },
  {
   "cell_type": "code",
   "execution_count": 202,
   "id": "b2dfa0f1-07f1-4d46-aee7-fdfc6aaffe5f",
   "metadata": {},
   "outputs": [
    {
     "data": {
      "text/html": [
       "<style>#sk-container-id-2 {color: black;background-color: white;}#sk-container-id-2 pre{padding: 0;}#sk-container-id-2 div.sk-toggleable {background-color: white;}#sk-container-id-2 label.sk-toggleable__label {cursor: pointer;display: block;width: 100%;margin-bottom: 0;padding: 0.3em;box-sizing: border-box;text-align: center;}#sk-container-id-2 label.sk-toggleable__label-arrow:before {content: \"▸\";float: left;margin-right: 0.25em;color: #696969;}#sk-container-id-2 label.sk-toggleable__label-arrow:hover:before {color: black;}#sk-container-id-2 div.sk-estimator:hover label.sk-toggleable__label-arrow:before {color: black;}#sk-container-id-2 div.sk-toggleable__content {max-height: 0;max-width: 0;overflow: hidden;text-align: left;background-color: #f0f8ff;}#sk-container-id-2 div.sk-toggleable__content pre {margin: 0.2em;color: black;border-radius: 0.25em;background-color: #f0f8ff;}#sk-container-id-2 input.sk-toggleable__control:checked~div.sk-toggleable__content {max-height: 200px;max-width: 100%;overflow: auto;}#sk-container-id-2 input.sk-toggleable__control:checked~label.sk-toggleable__label-arrow:before {content: \"▾\";}#sk-container-id-2 div.sk-estimator input.sk-toggleable__control:checked~label.sk-toggleable__label {background-color: #d4ebff;}#sk-container-id-2 div.sk-label input.sk-toggleable__control:checked~label.sk-toggleable__label {background-color: #d4ebff;}#sk-container-id-2 input.sk-hidden--visually {border: 0;clip: rect(1px 1px 1px 1px);clip: rect(1px, 1px, 1px, 1px);height: 1px;margin: -1px;overflow: hidden;padding: 0;position: absolute;width: 1px;}#sk-container-id-2 div.sk-estimator {font-family: monospace;background-color: #f0f8ff;border: 1px dotted black;border-radius: 0.25em;box-sizing: border-box;margin-bottom: 0.5em;}#sk-container-id-2 div.sk-estimator:hover {background-color: #d4ebff;}#sk-container-id-2 div.sk-parallel-item::after {content: \"\";width: 100%;border-bottom: 1px solid gray;flex-grow: 1;}#sk-container-id-2 div.sk-label:hover label.sk-toggleable__label {background-color: #d4ebff;}#sk-container-id-2 div.sk-serial::before {content: \"\";position: absolute;border-left: 1px solid gray;box-sizing: border-box;top: 0;bottom: 0;left: 50%;z-index: 0;}#sk-container-id-2 div.sk-serial {display: flex;flex-direction: column;align-items: center;background-color: white;padding-right: 0.2em;padding-left: 0.2em;position: relative;}#sk-container-id-2 div.sk-item {position: relative;z-index: 1;}#sk-container-id-2 div.sk-parallel {display: flex;align-items: stretch;justify-content: center;background-color: white;position: relative;}#sk-container-id-2 div.sk-item::before, #sk-container-id-2 div.sk-parallel-item::before {content: \"\";position: absolute;border-left: 1px solid gray;box-sizing: border-box;top: 0;bottom: 0;left: 50%;z-index: -1;}#sk-container-id-2 div.sk-parallel-item {display: flex;flex-direction: column;z-index: 1;position: relative;background-color: white;}#sk-container-id-2 div.sk-parallel-item:first-child::after {align-self: flex-end;width: 50%;}#sk-container-id-2 div.sk-parallel-item:last-child::after {align-self: flex-start;width: 50%;}#sk-container-id-2 div.sk-parallel-item:only-child::after {width: 0;}#sk-container-id-2 div.sk-dashed-wrapped {border: 1px dashed gray;margin: 0 0.4em 0.5em 0.4em;box-sizing: border-box;padding-bottom: 0.4em;background-color: white;}#sk-container-id-2 div.sk-label label {font-family: monospace;font-weight: bold;display: inline-block;line-height: 1.2em;}#sk-container-id-2 div.sk-label-container {text-align: center;}#sk-container-id-2 div.sk-container {/* jupyter's `normalize.less` sets `[hidden] { display: none; }` but bootstrap.min.css set `[hidden] { display: none !important; }` so we also need the `!important` here to be able to override the default hidden behavior on the sphinx rendered scikit-learn.org. See: https://github.com/scikit-learn/scikit-learn/issues/21755 */display: inline-block !important;position: relative;}#sk-container-id-2 div.sk-text-repr-fallback {display: none;}</style><div id=\"sk-container-id-2\" class=\"sk-top-container\"><div class=\"sk-text-repr-fallback\"><pre>LogisticRegression()</pre><b>In a Jupyter environment, please rerun this cell to show the HTML representation or trust the notebook. <br />On GitHub, the HTML representation is unable to render, please try loading this page with nbviewer.org.</b></div><div class=\"sk-container\" hidden><div class=\"sk-item\"><div class=\"sk-estimator sk-toggleable\"><input class=\"sk-toggleable__control sk-hidden--visually\" id=\"sk-estimator-id-2\" type=\"checkbox\" checked><label for=\"sk-estimator-id-2\" class=\"sk-toggleable__label sk-toggleable__label-arrow\">LogisticRegression</label><div class=\"sk-toggleable__content\"><pre>LogisticRegression()</pre></div></div></div></div></div>"
      ],
      "text/plain": [
       "LogisticRegression()"
      ]
     },
     "execution_count": 202,
     "metadata": {},
     "output_type": "execute_result"
    }
   ],
   "source": [
    "# Fit logistic regression model\n",
    "model = LogisticRegression()\n",
    "model.fit(train_X, train_y)"
   ]
  },
  {
   "cell_type": "code",
   "execution_count": 225,
   "id": "fc069c8a-8e94-4239-b06e-82f20772a5d6",
   "metadata": {},
   "outputs": [],
   "source": [
    "# Find coefficients and intercept\n",
    "coef = model.coef_\n",
    "intercept = model.intercept_"
   ]
  },
  {
   "cell_type": "code",
   "execution_count": 226,
   "id": "707da7c6-4b09-4172-be99-aab034cb8488",
   "metadata": {},
   "outputs": [],
   "source": [
    "# Make predictions on test data\n",
    "pred_y = model.predict(test_X)"
   ]
  },
  {
   "cell_type": "code",
   "execution_count": 227,
   "id": "25b26f79-f053-49e4-9f8f-10109adbd4e2",
   "metadata": {},
   "outputs": [],
   "source": [
    "# Calculate confusion matrix\n",
    "tn, fp, fn, tp = confusion_matrix(test_y, pred_y).ravel()"
   ]
  },
  {
   "cell_type": "code",
   "execution_count": 208,
   "id": "a9d63707-cc20-4533-ad8b-514cde941056",
   "metadata": {},
   "outputs": [],
   "source": [
    "accuracy = (tp + tn) / (tp + tn + fp + fn)"
   ]
  },
  {
   "cell_type": "code",
   "execution_count": 209,
   "id": "fe8350ab-8903-4a06-9e80-a32081a0d0b9",
   "metadata": {},
   "outputs": [
    {
     "name": "stdout",
     "output_type": "stream",
     "text": [
      "Coefficients: [[ 1.22642436  0.66440429 -0.10526153  0.10526153]]\n",
      "Intercept: [-3.29584609]\n",
      "True positives: 5\n",
      "True negatives: 1584\n",
      "False positives: 2\n",
      "False negatives: 134\n",
      "Accuracy: 0.9211594202898551\n"
     ]
    }
   ],
   "source": [
    "print('Coefficients:', coef)\n",
    "print('Intercept:', intercept)\n",
    "print('True positives:', tp)\n",
    "print('True negatives:', tn)\n",
    "print('False positives:', fp)\n",
    "print('False negatives:', fn)\n",
    "print('Accuracy:', accuracy)"
   ]
  },
  {
   "cell_type": "code",
   "execution_count": 213,
   "id": "3c4a503e-ec87-4642-ad41-befc311e8bb5",
   "metadata": {},
   "outputs": [
    {
     "name": "stdout",
     "output_type": "stream",
     "text": [
      "Confusion matrix:\n",
      "[1584    2  134    5]\n"
     ]
    }
   ],
   "source": [
    "cm = confusion_matrix(test_y, pred_y).ravel()\n",
    "print(\"Confusion matrix:\")\n",
    "print(cm)"
   ]
  },
  {
   "cell_type": "code",
   "execution_count": 220,
   "id": "101ef9b0-dff3-4f37-9e82-530ae2e7025b",
   "metadata": {},
   "outputs": [],
   "source": [
    "\n",
    "from sklearn import datasets, linear_model, metrics"
   ]
  },
  {
   "cell_type": "code",
   "execution_count": 222,
   "id": "8f5a3f45-ad30-4476-ab85-f5e5b14a4dad",
   "metadata": {},
   "outputs": [],
   "source": [
    "# create logistic regression object\n",
    "reg = linear_model.LogisticRegression()\n",
    "   \n",
    "# train the model using the training sets\n",
    "reg.fit(train_X, train_y)\n",
    "  \n",
    "# making predictions on the testing set\n",
    "y_pred = reg.predict(test_X)\n",
    "   "
   ]
  },
  {
   "cell_type": "code",
   "execution_count": 224,
   "id": "1431e311-6bdb-40c2-9da6-4ed9b611f5f2",
   "metadata": {},
   "outputs": [
    {
     "name": "stdout",
     "output_type": "stream",
     "text": [
      "Logistic Regression model accuracy(in %): 92.11594202898551\n"
     ]
    }
   ],
   "source": [
    "\n",
    "# comparing actual response values (y_test) with predicted response values (y_pred)\n",
    "print(\"Logistic Regression model accuracy(in %):\", \n",
    "metrics.accuracy_score(test_y, y_pred)*100)"
   ]
  },
  {
   "cell_type": "code",
   "execution_count": null,
   "id": "e5e56f4b-f11d-4e0b-b9e9-8e62dd6edb1b",
   "metadata": {},
   "outputs": [],
   "source": []
  }
 ],
 "metadata": {
  "kernelspec": {
   "display_name": "Python 3 (ipykernel)",
   "language": "python",
   "name": "python3"
  },
  "language_info": {
   "codemirror_mode": {
    "name": "ipython",
    "version": 3
   },
   "file_extension": ".py",
   "mimetype": "text/x-python",
   "name": "python",
   "nbconvert_exporter": "python",
   "pygments_lexer": "ipython3",
   "version": "3.9.12"
  }
 },
 "nbformat": 4,
 "nbformat_minor": 5
}
